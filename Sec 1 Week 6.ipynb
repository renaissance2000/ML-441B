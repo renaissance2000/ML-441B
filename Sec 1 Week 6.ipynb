{
 "cells": [
  {
   "cell_type": "markdown",
   "metadata": {
    "id": "ZRkewr3TiOn8"
   },
   "source": [
    "# 1.) Create a function that takes X, y data and allows you to fit/predict similar to a scikit learn function."
   ]
  },
  {
   "cell_type": "code",
   "execution_count": 15,
   "metadata": {
    "id": "tzaZEHcqiYm0"
   },
   "outputs": [],
   "source": [
    "import numpy as np\n",
    "import pandas as pd\n",
    "from tensorflow.keras.models import Sequential\n",
    "from tensorflow.keras.layers import SimpleRNN, Dense\n",
    "from sklearn.preprocessing import MinMaxScaler, LabelEncoder\n",
    "from sklearn.model_selection import train_test_split\n",
    "from tensorflow.keras.utils import to_categorical\n",
    "\n",
    "class SimpleRNNWrapper:\n",
    "    def __init__(self, output_type='continuous', lags=1, rnn_units=50, epochs=10, batch_size=32):\n",
    "        \"\"\"\n",
    "        Initialize the RNN wrapper.\n",
    "\n",
    "        Parameters:\n",
    "        - output_type: 'continuous' for regression tasks, 'discrete' for classification.\n",
    "        - lags: Number of lag observations to use as input features.\n",
    "        - rnn_units: Number of units in the RNN layer.\n",
    "        - epochs: Number of epochs to train the model.\n",
    "        - batch_size: Batch size for training.\n",
    "        \"\"\"\n",
    "        self.output_type = output_type\n",
    "        self.lags = lags\n",
    "        self.rnn_units = rnn_units\n",
    "        self.epochs = epochs\n",
    "        self.batch_size = batch_size\n",
    "        self.model = None\n",
    "        self.scaler = MinMaxScaler()\n",
    "        self.label_encoder = None\n",
    "        if output_type == 'discrete':\n",
    "            self.label_encoder = LabelEncoder()\n",
    "\n",
    "    def _preprocess_data(self, X, y=None):\n",
    "        \"\"\"\n",
    "        Preprocess the data: scale features, encode labels (if discrete), and structure into sequences.\n",
    "        \"\"\"\n",
    "        X_scaled = self.scaler.fit_transform(X)\n",
    "        X_seq = np.array([X_scaled[i:i+self.lags] for i in range(len(X_scaled)-self.lags)])\n",
    "\n",
    "        if y is not None:\n",
    "            if self.output_type == 'continuous':\n",
    "                y_seq = y[self.lags:]\n",
    "            else:  # Discrete\n",
    "                y_encoded = self.label_encoder.fit_transform(y)\n",
    "                y_seq = to_categorical(y_encoded[self.lags:])\n",
    "            return X_seq, y_seq\n",
    "\n",
    "        return X_seq\n",
    "\n",
    "    def _build_model(self, input_shape, output_shape):\n",
    "        \"\"\"\n",
    "        Build the RNN model based on specified parameters.\n",
    "        \"\"\"\n",
    "        self.model = Sequential()\n",
    "        self.model.add(SimpleRNN(self.rnn_units, input_shape=input_shape))\n",
    "        if self.output_type == 'continuous':\n",
    "            self.model.add(Dense(1))\n",
    "        else:  # Discrete\n",
    "            self.model.add(Dense(output_shape, activation='softmax'))\n",
    "\n",
    "        self.model.compile(optimizer='adam', loss='mse' if self.output_type == 'continuous' else 'categorical_crossentropy', metrics=['accuracy'])\n",
    "\n",
    "    def fit(self, X, y):\n",
    "        \"\"\"\n",
    "        Fit the RNN model to the data.\n",
    "        \"\"\"\n",
    "        X_seq, y_seq = self._preprocess_data(X, y)\n",
    "        self._build_model(input_shape=(X_seq.shape[1], X_seq.shape[2]), output_shape=y_seq.shape[1])\n",
    "        self.model.fit(X_seq, y_seq, epochs=self.epochs, batch_size=self.batch_size)\n",
    "\n",
    "    def predict(self, X):\n",
    "        \"\"\"\n",
    "        Predict using the trained RNN model.\n",
    "        \"\"\"\n",
    "        X_seq = self._preprocess_data(X)\n",
    "        predictions = self.model.predict(X_seq)\n",
    "        if self.output_type == 'discrete':\n",
    "            return self.label_encoder.inverse_transform(np.argmax(predictions, axis=1))\n",
    "        return predictions.flatten()\n",
    "\n"
   ]
  },
  {
   "cell_type": "code",
   "execution_count": null,
   "metadata": {
    "id": "4uC4M65riZyg"
   },
   "outputs": [],
   "source": []
  },
  {
   "cell_type": "code",
   "execution_count": null,
   "metadata": {
    "id": "GxGpOZ_ilOcQ"
   },
   "outputs": [],
   "source": []
  }
 ],
 "metadata": {
  "colab": {
   "provenance": []
  },
  "kernelspec": {
   "display_name": "Python 3 (ipykernel)",
   "language": "python",
   "name": "python3"
  },
  "language_info": {
   "codemirror_mode": {
    "name": "ipython",
    "version": 3
   },
   "file_extension": ".py",
   "mimetype": "text/x-python",
   "name": "python",
   "nbconvert_exporter": "python",
   "pygments_lexer": "ipython3",
   "version": "3.11.5"
  }
 },
 "nbformat": 4,
 "nbformat_minor": 1
}
